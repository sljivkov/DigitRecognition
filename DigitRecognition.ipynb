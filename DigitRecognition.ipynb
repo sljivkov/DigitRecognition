{
  "nbformat": 4,
  "nbformat_minor": 0,
  "metadata": {
    "colab": {
      "name": "PO-DigitRecognition.ipynb",
      "provenance": [],
      "collapsed_sections": [
        "aerod15ws-mK",
        "FZ9CjP_xtY7F",
        "oyjkR8QYtdDF",
        "Z0wrR6jhtfsB",
        "PWF-p5IJsJww",
        "ZB7wfX78nuak",
        "nREXUjndq31B"
      ]
    },
    "kernelspec": {
      "name": "python3",
      "display_name": "Python 3"
    },
    "language_info": {
      "name": "python"
    }
  },
  "cells": [
    {
      "cell_type": "markdown",
      "source": [
        "### Imports"
      ],
      "metadata": {
        "id": "aerod15ws-mK"
      }
    },
    {
      "cell_type": "code",
      "source": [
        "import math\n",
        "import numpy as np\n",
        "import pandas as pd\n",
        "\n",
        "%matplotlib inline\n",
        "import matplotlib.pyplot as plt\n",
        "import seaborn as sns\n",
        "from seaborn.palettes import color_palette\n",
        "\n",
        "from sklearn.decomposition import PCA\n",
        "from sklearn.metrics import confusion_matrix, accuracy_score\n",
        "from sklearn.model_selection import train_test_split, KFold\n",
        "\n",
        "from sklearn.svm import SVC\n",
        "from sklearn.neighbors import KNeighborsClassifier\n",
        "from sklearn.tree import DecisionTreeClassifier"
      ],
      "metadata": {
        "id": "MOivacUtizj_"
      },
      "execution_count": null,
      "outputs": []
    },
    {
      "cell_type": "code",
      "source": [
        "def plot_confusion_mtx(mtx):\n",
        "    plt.figure(figsize=(12,6)); plt.title(\"Confusion matrix\")\n",
        "    sns.heatmap(mtx, annot=True, cmap=\"Blues\", fmt=\"d\");\n",
        "    plt.ylabel(\"True label\"); plt.xlabel(\"Predicted label\")"
      ],
      "metadata": {
        "id": "_JJDNenEkEXn"
      },
      "execution_count": null,
      "outputs": []
    },
    {
      "cell_type": "markdown",
      "source": [
        "### Analysis"
      ],
      "metadata": {
        "id": "GKAJkmHFs5Mb"
      }
    },
    {
      "cell_type": "code",
      "source": [
        "df_train = pd.read_csv(\"./train.csv\")\n",
        "df_train.dropna(inplace=True)\n",
        "y_train = df_train[\"label\"].to_numpy()\n",
        "x_train = df_train.drop(labels=[\"label\"], axis=1).to_numpy()"
      ],
      "metadata": {
        "id": "XHFhoIay9fF9"
      },
      "execution_count": null,
      "outputs": []
    },
    {
      "cell_type": "code",
      "source": [
        "df_train.describe()"
      ],
      "metadata": {
        "colab": {
          "base_uri": "https://localhost:8080/",
          "height": 394
        },
        "id": "3fY2zKjn9krd",
        "outputId": "b59a5fce-4827-406a-ba68-c7872d66a5c0"
      },
      "execution_count": null,
      "outputs": [
        {
          "output_type": "execute_result",
          "data": {
            "text/plain": [
              "              label   pixel0   pixel1   pixel2   pixel3   pixel4   pixel5  \\\n",
              "count  18929.000000  18929.0  18929.0  18929.0  18929.0  18929.0  18929.0   \n",
              "mean       4.448465      0.0      0.0      0.0      0.0      0.0      0.0   \n",
              "std        2.879996      0.0      0.0      0.0      0.0      0.0      0.0   \n",
              "min        0.000000      0.0      0.0      0.0      0.0      0.0      0.0   \n",
              "25%        2.000000      0.0      0.0      0.0      0.0      0.0      0.0   \n",
              "50%        4.000000      0.0      0.0      0.0      0.0      0.0      0.0   \n",
              "75%        7.000000      0.0      0.0      0.0      0.0      0.0      0.0   \n",
              "max        9.000000      0.0      0.0      0.0      0.0      0.0      0.0   \n",
              "\n",
              "        pixel6   pixel7   pixel8  ...      pixel774      pixel775  \\\n",
              "count  18929.0  18929.0  18929.0  ...  18929.000000  18929.000000   \n",
              "mean       0.0      0.0      0.0  ...      0.164562      0.099530   \n",
              "std        0.0      0.0      0.0  ...      5.361983      4.235789   \n",
              "min        0.0      0.0      0.0  ...      0.000000      0.000000   \n",
              "25%        0.0      0.0      0.0  ...      0.000000      0.000000   \n",
              "50%        0.0      0.0      0.0  ...      0.000000      0.000000   \n",
              "75%        0.0      0.0      0.0  ...      0.000000      0.000000   \n",
              "max        0.0      0.0      0.0  ...    253.000000    253.000000   \n",
              "\n",
              "           pixel776      pixel777      pixel778  pixel779  pixel780  pixel781  \\\n",
              "count  18929.000000  18929.000000  18929.000000   18929.0   18929.0   18929.0   \n",
              "mean       0.046014      0.013366      0.001162       0.0       0.0       0.0   \n",
              "std        2.847981      1.400052      0.159904       0.0       0.0       0.0   \n",
              "min        0.000000      0.000000      0.000000       0.0       0.0       0.0   \n",
              "25%        0.000000      0.000000      0.000000       0.0       0.0       0.0   \n",
              "50%        0.000000      0.000000      0.000000       0.0       0.0       0.0   \n",
              "75%        0.000000      0.000000      0.000000       0.0       0.0       0.0   \n",
              "max      252.000000    177.000000     22.000000       0.0       0.0       0.0   \n",
              "\n",
              "       pixel782  pixel783  \n",
              "count   18929.0   18929.0  \n",
              "mean        0.0       0.0  \n",
              "std         0.0       0.0  \n",
              "min         0.0       0.0  \n",
              "25%         0.0       0.0  \n",
              "50%         0.0       0.0  \n",
              "75%         0.0       0.0  \n",
              "max         0.0       0.0  \n",
              "\n",
              "[8 rows x 785 columns]"
            ],
            "text/html": [
              "\n",
              "  <div id=\"df-26bd52b9-c950-4f81-aaa2-003622204a09\">\n",
              "    <div class=\"colab-df-container\">\n",
              "      <div>\n",
              "<style scoped>\n",
              "    .dataframe tbody tr th:only-of-type {\n",
              "        vertical-align: middle;\n",
              "    }\n",
              "\n",
              "    .dataframe tbody tr th {\n",
              "        vertical-align: top;\n",
              "    }\n",
              "\n",
              "    .dataframe thead th {\n",
              "        text-align: right;\n",
              "    }\n",
              "</style>\n",
              "<table border=\"1\" class=\"dataframe\">\n",
              "  <thead>\n",
              "    <tr style=\"text-align: right;\">\n",
              "      <th></th>\n",
              "      <th>label</th>\n",
              "      <th>pixel0</th>\n",
              "      <th>pixel1</th>\n",
              "      <th>pixel2</th>\n",
              "      <th>pixel3</th>\n",
              "      <th>pixel4</th>\n",
              "      <th>pixel5</th>\n",
              "      <th>pixel6</th>\n",
              "      <th>pixel7</th>\n",
              "      <th>pixel8</th>\n",
              "      <th>...</th>\n",
              "      <th>pixel774</th>\n",
              "      <th>pixel775</th>\n",
              "      <th>pixel776</th>\n",
              "      <th>pixel777</th>\n",
              "      <th>pixel778</th>\n",
              "      <th>pixel779</th>\n",
              "      <th>pixel780</th>\n",
              "      <th>pixel781</th>\n",
              "      <th>pixel782</th>\n",
              "      <th>pixel783</th>\n",
              "    </tr>\n",
              "  </thead>\n",
              "  <tbody>\n",
              "    <tr>\n",
              "      <th>count</th>\n",
              "      <td>18929.000000</td>\n",
              "      <td>18929.0</td>\n",
              "      <td>18929.0</td>\n",
              "      <td>18929.0</td>\n",
              "      <td>18929.0</td>\n",
              "      <td>18929.0</td>\n",
              "      <td>18929.0</td>\n",
              "      <td>18929.0</td>\n",
              "      <td>18929.0</td>\n",
              "      <td>18929.0</td>\n",
              "      <td>...</td>\n",
              "      <td>18929.000000</td>\n",
              "      <td>18929.000000</td>\n",
              "      <td>18929.000000</td>\n",
              "      <td>18929.000000</td>\n",
              "      <td>18929.000000</td>\n",
              "      <td>18929.0</td>\n",
              "      <td>18929.0</td>\n",
              "      <td>18929.0</td>\n",
              "      <td>18929.0</td>\n",
              "      <td>18929.0</td>\n",
              "    </tr>\n",
              "    <tr>\n",
              "      <th>mean</th>\n",
              "      <td>4.448465</td>\n",
              "      <td>0.0</td>\n",
              "      <td>0.0</td>\n",
              "      <td>0.0</td>\n",
              "      <td>0.0</td>\n",
              "      <td>0.0</td>\n",
              "      <td>0.0</td>\n",
              "      <td>0.0</td>\n",
              "      <td>0.0</td>\n",
              "      <td>0.0</td>\n",
              "      <td>...</td>\n",
              "      <td>0.164562</td>\n",
              "      <td>0.099530</td>\n",
              "      <td>0.046014</td>\n",
              "      <td>0.013366</td>\n",
              "      <td>0.001162</td>\n",
              "      <td>0.0</td>\n",
              "      <td>0.0</td>\n",
              "      <td>0.0</td>\n",
              "      <td>0.0</td>\n",
              "      <td>0.0</td>\n",
              "    </tr>\n",
              "    <tr>\n",
              "      <th>std</th>\n",
              "      <td>2.879996</td>\n",
              "      <td>0.0</td>\n",
              "      <td>0.0</td>\n",
              "      <td>0.0</td>\n",
              "      <td>0.0</td>\n",
              "      <td>0.0</td>\n",
              "      <td>0.0</td>\n",
              "      <td>0.0</td>\n",
              "      <td>0.0</td>\n",
              "      <td>0.0</td>\n",
              "      <td>...</td>\n",
              "      <td>5.361983</td>\n",
              "      <td>4.235789</td>\n",
              "      <td>2.847981</td>\n",
              "      <td>1.400052</td>\n",
              "      <td>0.159904</td>\n",
              "      <td>0.0</td>\n",
              "      <td>0.0</td>\n",
              "      <td>0.0</td>\n",
              "      <td>0.0</td>\n",
              "      <td>0.0</td>\n",
              "    </tr>\n",
              "    <tr>\n",
              "      <th>min</th>\n",
              "      <td>0.000000</td>\n",
              "      <td>0.0</td>\n",
              "      <td>0.0</td>\n",
              "      <td>0.0</td>\n",
              "      <td>0.0</td>\n",
              "      <td>0.0</td>\n",
              "      <td>0.0</td>\n",
              "      <td>0.0</td>\n",
              "      <td>0.0</td>\n",
              "      <td>0.0</td>\n",
              "      <td>...</td>\n",
              "      <td>0.000000</td>\n",
              "      <td>0.000000</td>\n",
              "      <td>0.000000</td>\n",
              "      <td>0.000000</td>\n",
              "      <td>0.000000</td>\n",
              "      <td>0.0</td>\n",
              "      <td>0.0</td>\n",
              "      <td>0.0</td>\n",
              "      <td>0.0</td>\n",
              "      <td>0.0</td>\n",
              "    </tr>\n",
              "    <tr>\n",
              "      <th>25%</th>\n",
              "      <td>2.000000</td>\n",
              "      <td>0.0</td>\n",
              "      <td>0.0</td>\n",
              "      <td>0.0</td>\n",
              "      <td>0.0</td>\n",
              "      <td>0.0</td>\n",
              "      <td>0.0</td>\n",
              "      <td>0.0</td>\n",
              "      <td>0.0</td>\n",
              "      <td>0.0</td>\n",
              "      <td>...</td>\n",
              "      <td>0.000000</td>\n",
              "      <td>0.000000</td>\n",
              "      <td>0.000000</td>\n",
              "      <td>0.000000</td>\n",
              "      <td>0.000000</td>\n",
              "      <td>0.0</td>\n",
              "      <td>0.0</td>\n",
              "      <td>0.0</td>\n",
              "      <td>0.0</td>\n",
              "      <td>0.0</td>\n",
              "    </tr>\n",
              "    <tr>\n",
              "      <th>50%</th>\n",
              "      <td>4.000000</td>\n",
              "      <td>0.0</td>\n",
              "      <td>0.0</td>\n",
              "      <td>0.0</td>\n",
              "      <td>0.0</td>\n",
              "      <td>0.0</td>\n",
              "      <td>0.0</td>\n",
              "      <td>0.0</td>\n",
              "      <td>0.0</td>\n",
              "      <td>0.0</td>\n",
              "      <td>...</td>\n",
              "      <td>0.000000</td>\n",
              "      <td>0.000000</td>\n",
              "      <td>0.000000</td>\n",
              "      <td>0.000000</td>\n",
              "      <td>0.000000</td>\n",
              "      <td>0.0</td>\n",
              "      <td>0.0</td>\n",
              "      <td>0.0</td>\n",
              "      <td>0.0</td>\n",
              "      <td>0.0</td>\n",
              "    </tr>\n",
              "    <tr>\n",
              "      <th>75%</th>\n",
              "      <td>7.000000</td>\n",
              "      <td>0.0</td>\n",
              "      <td>0.0</td>\n",
              "      <td>0.0</td>\n",
              "      <td>0.0</td>\n",
              "      <td>0.0</td>\n",
              "      <td>0.0</td>\n",
              "      <td>0.0</td>\n",
              "      <td>0.0</td>\n",
              "      <td>0.0</td>\n",
              "      <td>...</td>\n",
              "      <td>0.000000</td>\n",
              "      <td>0.000000</td>\n",
              "      <td>0.000000</td>\n",
              "      <td>0.000000</td>\n",
              "      <td>0.000000</td>\n",
              "      <td>0.0</td>\n",
              "      <td>0.0</td>\n",
              "      <td>0.0</td>\n",
              "      <td>0.0</td>\n",
              "      <td>0.0</td>\n",
              "    </tr>\n",
              "    <tr>\n",
              "      <th>max</th>\n",
              "      <td>9.000000</td>\n",
              "      <td>0.0</td>\n",
              "      <td>0.0</td>\n",
              "      <td>0.0</td>\n",
              "      <td>0.0</td>\n",
              "      <td>0.0</td>\n",
              "      <td>0.0</td>\n",
              "      <td>0.0</td>\n",
              "      <td>0.0</td>\n",
              "      <td>0.0</td>\n",
              "      <td>...</td>\n",
              "      <td>253.000000</td>\n",
              "      <td>253.000000</td>\n",
              "      <td>252.000000</td>\n",
              "      <td>177.000000</td>\n",
              "      <td>22.000000</td>\n",
              "      <td>0.0</td>\n",
              "      <td>0.0</td>\n",
              "      <td>0.0</td>\n",
              "      <td>0.0</td>\n",
              "      <td>0.0</td>\n",
              "    </tr>\n",
              "  </tbody>\n",
              "</table>\n",
              "<p>8 rows × 785 columns</p>\n",
              "</div>\n",
              "      <button class=\"colab-df-convert\" onclick=\"convertToInteractive('df-26bd52b9-c950-4f81-aaa2-003622204a09')\"\n",
              "              title=\"Convert this dataframe to an interactive table.\"\n",
              "              style=\"display:none;\">\n",
              "        \n",
              "  <svg xmlns=\"http://www.w3.org/2000/svg\" height=\"24px\"viewBox=\"0 0 24 24\"\n",
              "       width=\"24px\">\n",
              "    <path d=\"M0 0h24v24H0V0z\" fill=\"none\"/>\n",
              "    <path d=\"M18.56 5.44l.94 2.06.94-2.06 2.06-.94-2.06-.94-.94-2.06-.94 2.06-2.06.94zm-11 1L8.5 8.5l.94-2.06 2.06-.94-2.06-.94L8.5 2.5l-.94 2.06-2.06.94zm10 10l.94 2.06.94-2.06 2.06-.94-2.06-.94-.94-2.06-.94 2.06-2.06.94z\"/><path d=\"M17.41 7.96l-1.37-1.37c-.4-.4-.92-.59-1.43-.59-.52 0-1.04.2-1.43.59L10.3 9.45l-7.72 7.72c-.78.78-.78 2.05 0 2.83L4 21.41c.39.39.9.59 1.41.59.51 0 1.02-.2 1.41-.59l7.78-7.78 2.81-2.81c.8-.78.8-2.07 0-2.86zM5.41 20L4 18.59l7.72-7.72 1.47 1.35L5.41 20z\"/>\n",
              "  </svg>\n",
              "      </button>\n",
              "      \n",
              "  <style>\n",
              "    .colab-df-container {\n",
              "      display:flex;\n",
              "      flex-wrap:wrap;\n",
              "      gap: 12px;\n",
              "    }\n",
              "\n",
              "    .colab-df-convert {\n",
              "      background-color: #E8F0FE;\n",
              "      border: none;\n",
              "      border-radius: 50%;\n",
              "      cursor: pointer;\n",
              "      display: none;\n",
              "      fill: #1967D2;\n",
              "      height: 32px;\n",
              "      padding: 0 0 0 0;\n",
              "      width: 32px;\n",
              "    }\n",
              "\n",
              "    .colab-df-convert:hover {\n",
              "      background-color: #E2EBFA;\n",
              "      box-shadow: 0px 1px 2px rgba(60, 64, 67, 0.3), 0px 1px 3px 1px rgba(60, 64, 67, 0.15);\n",
              "      fill: #174EA6;\n",
              "    }\n",
              "\n",
              "    [theme=dark] .colab-df-convert {\n",
              "      background-color: #3B4455;\n",
              "      fill: #D2E3FC;\n",
              "    }\n",
              "\n",
              "    [theme=dark] .colab-df-convert:hover {\n",
              "      background-color: #434B5C;\n",
              "      box-shadow: 0px 1px 3px 1px rgba(0, 0, 0, 0.15);\n",
              "      filter: drop-shadow(0px 1px 2px rgba(0, 0, 0, 0.3));\n",
              "      fill: #FFFFFF;\n",
              "    }\n",
              "  </style>\n",
              "\n",
              "      <script>\n",
              "        const buttonEl =\n",
              "          document.querySelector('#df-26bd52b9-c950-4f81-aaa2-003622204a09 button.colab-df-convert');\n",
              "        buttonEl.style.display =\n",
              "          google.colab.kernel.accessAllowed ? 'block' : 'none';\n",
              "\n",
              "        async function convertToInteractive(key) {\n",
              "          const element = document.querySelector('#df-26bd52b9-c950-4f81-aaa2-003622204a09');\n",
              "          const dataTable =\n",
              "            await google.colab.kernel.invokeFunction('convertToInteractive',\n",
              "                                                     [key], {});\n",
              "          if (!dataTable) return;\n",
              "\n",
              "          const docLinkHtml = 'Like what you see? Visit the ' +\n",
              "            '<a target=\"_blank\" href=https://colab.research.google.com/notebooks/data_table.ipynb>data table notebook</a>'\n",
              "            + ' to learn more about interactive tables.';\n",
              "          element.innerHTML = '';\n",
              "          dataTable['output_type'] = 'display_data';\n",
              "          await google.colab.output.renderOutput(dataTable, element);\n",
              "          const docLink = document.createElement('div');\n",
              "          docLink.innerHTML = docLinkHtml;\n",
              "          element.appendChild(docLink);\n",
              "        }\n",
              "      </script>\n",
              "    </div>\n",
              "  </div>\n",
              "  "
            ]
          },
          "metadata": {},
          "execution_count": 8
        }
      ]
    },
    {
      "cell_type": "code",
      "source": [
        "df_train.head()"
      ],
      "metadata": {
        "colab": {
          "base_uri": "https://localhost:8080/",
          "height": 236
        },
        "id": "3SxnrjgToRgE",
        "outputId": "9d1e85b6-4f17-441e-bf63-47477b96a29f"
      },
      "execution_count": null,
      "outputs": [
        {
          "output_type": "execute_result",
          "data": {
            "text/plain": [
              "   label  pixel0  pixel1  pixel2  pixel3  pixel4  pixel5  pixel6  pixel7  \\\n",
              "0      1       0       0       0       0       0       0       0       0   \n",
              "1      0       0       0       0       0       0       0       0       0   \n",
              "2      1       0       0       0       0       0       0       0       0   \n",
              "3      4       0       0       0       0       0       0       0       0   \n",
              "4      0       0       0       0       0       0       0       0       0   \n",
              "\n",
              "   pixel8  ...  pixel774  pixel775  pixel776  pixel777  pixel778  pixel779  \\\n",
              "0       0  ...       0.0       0.0       0.0       0.0       0.0       0.0   \n",
              "1       0  ...       0.0       0.0       0.0       0.0       0.0       0.0   \n",
              "2       0  ...       0.0       0.0       0.0       0.0       0.0       0.0   \n",
              "3       0  ...       0.0       0.0       0.0       0.0       0.0       0.0   \n",
              "4       0  ...       0.0       0.0       0.0       0.0       0.0       0.0   \n",
              "\n",
              "   pixel780  pixel781  pixel782  pixel783  \n",
              "0       0.0       0.0       0.0       0.0  \n",
              "1       0.0       0.0       0.0       0.0  \n",
              "2       0.0       0.0       0.0       0.0  \n",
              "3       0.0       0.0       0.0       0.0  \n",
              "4       0.0       0.0       0.0       0.0  \n",
              "\n",
              "[5 rows x 785 columns]"
            ],
            "text/html": [
              "\n",
              "  <div id=\"df-b359f4da-0bd5-470d-ac38-b8d6679ccde7\">\n",
              "    <div class=\"colab-df-container\">\n",
              "      <div>\n",
              "<style scoped>\n",
              "    .dataframe tbody tr th:only-of-type {\n",
              "        vertical-align: middle;\n",
              "    }\n",
              "\n",
              "    .dataframe tbody tr th {\n",
              "        vertical-align: top;\n",
              "    }\n",
              "\n",
              "    .dataframe thead th {\n",
              "        text-align: right;\n",
              "    }\n",
              "</style>\n",
              "<table border=\"1\" class=\"dataframe\">\n",
              "  <thead>\n",
              "    <tr style=\"text-align: right;\">\n",
              "      <th></th>\n",
              "      <th>label</th>\n",
              "      <th>pixel0</th>\n",
              "      <th>pixel1</th>\n",
              "      <th>pixel2</th>\n",
              "      <th>pixel3</th>\n",
              "      <th>pixel4</th>\n",
              "      <th>pixel5</th>\n",
              "      <th>pixel6</th>\n",
              "      <th>pixel7</th>\n",
              "      <th>pixel8</th>\n",
              "      <th>...</th>\n",
              "      <th>pixel774</th>\n",
              "      <th>pixel775</th>\n",
              "      <th>pixel776</th>\n",
              "      <th>pixel777</th>\n",
              "      <th>pixel778</th>\n",
              "      <th>pixel779</th>\n",
              "      <th>pixel780</th>\n",
              "      <th>pixel781</th>\n",
              "      <th>pixel782</th>\n",
              "      <th>pixel783</th>\n",
              "    </tr>\n",
              "  </thead>\n",
              "  <tbody>\n",
              "    <tr>\n",
              "      <th>0</th>\n",
              "      <td>1</td>\n",
              "      <td>0</td>\n",
              "      <td>0</td>\n",
              "      <td>0</td>\n",
              "      <td>0</td>\n",
              "      <td>0</td>\n",
              "      <td>0</td>\n",
              "      <td>0</td>\n",
              "      <td>0</td>\n",
              "      <td>0</td>\n",
              "      <td>...</td>\n",
              "      <td>0.0</td>\n",
              "      <td>0.0</td>\n",
              "      <td>0.0</td>\n",
              "      <td>0.0</td>\n",
              "      <td>0.0</td>\n",
              "      <td>0.0</td>\n",
              "      <td>0.0</td>\n",
              "      <td>0.0</td>\n",
              "      <td>0.0</td>\n",
              "      <td>0.0</td>\n",
              "    </tr>\n",
              "    <tr>\n",
              "      <th>1</th>\n",
              "      <td>0</td>\n",
              "      <td>0</td>\n",
              "      <td>0</td>\n",
              "      <td>0</td>\n",
              "      <td>0</td>\n",
              "      <td>0</td>\n",
              "      <td>0</td>\n",
              "      <td>0</td>\n",
              "      <td>0</td>\n",
              "      <td>0</td>\n",
              "      <td>...</td>\n",
              "      <td>0.0</td>\n",
              "      <td>0.0</td>\n",
              "      <td>0.0</td>\n",
              "      <td>0.0</td>\n",
              "      <td>0.0</td>\n",
              "      <td>0.0</td>\n",
              "      <td>0.0</td>\n",
              "      <td>0.0</td>\n",
              "      <td>0.0</td>\n",
              "      <td>0.0</td>\n",
              "    </tr>\n",
              "    <tr>\n",
              "      <th>2</th>\n",
              "      <td>1</td>\n",
              "      <td>0</td>\n",
              "      <td>0</td>\n",
              "      <td>0</td>\n",
              "      <td>0</td>\n",
              "      <td>0</td>\n",
              "      <td>0</td>\n",
              "      <td>0</td>\n",
              "      <td>0</td>\n",
              "      <td>0</td>\n",
              "      <td>...</td>\n",
              "      <td>0.0</td>\n",
              "      <td>0.0</td>\n",
              "      <td>0.0</td>\n",
              "      <td>0.0</td>\n",
              "      <td>0.0</td>\n",
              "      <td>0.0</td>\n",
              "      <td>0.0</td>\n",
              "      <td>0.0</td>\n",
              "      <td>0.0</td>\n",
              "      <td>0.0</td>\n",
              "    </tr>\n",
              "    <tr>\n",
              "      <th>3</th>\n",
              "      <td>4</td>\n",
              "      <td>0</td>\n",
              "      <td>0</td>\n",
              "      <td>0</td>\n",
              "      <td>0</td>\n",
              "      <td>0</td>\n",
              "      <td>0</td>\n",
              "      <td>0</td>\n",
              "      <td>0</td>\n",
              "      <td>0</td>\n",
              "      <td>...</td>\n",
              "      <td>0.0</td>\n",
              "      <td>0.0</td>\n",
              "      <td>0.0</td>\n",
              "      <td>0.0</td>\n",
              "      <td>0.0</td>\n",
              "      <td>0.0</td>\n",
              "      <td>0.0</td>\n",
              "      <td>0.0</td>\n",
              "      <td>0.0</td>\n",
              "      <td>0.0</td>\n",
              "    </tr>\n",
              "    <tr>\n",
              "      <th>4</th>\n",
              "      <td>0</td>\n",
              "      <td>0</td>\n",
              "      <td>0</td>\n",
              "      <td>0</td>\n",
              "      <td>0</td>\n",
              "      <td>0</td>\n",
              "      <td>0</td>\n",
              "      <td>0</td>\n",
              "      <td>0</td>\n",
              "      <td>0</td>\n",
              "      <td>...</td>\n",
              "      <td>0.0</td>\n",
              "      <td>0.0</td>\n",
              "      <td>0.0</td>\n",
              "      <td>0.0</td>\n",
              "      <td>0.0</td>\n",
              "      <td>0.0</td>\n",
              "      <td>0.0</td>\n",
              "      <td>0.0</td>\n",
              "      <td>0.0</td>\n",
              "      <td>0.0</td>\n",
              "    </tr>\n",
              "  </tbody>\n",
              "</table>\n",
              "<p>5 rows × 785 columns</p>\n",
              "</div>\n",
              "      <button class=\"colab-df-convert\" onclick=\"convertToInteractive('df-b359f4da-0bd5-470d-ac38-b8d6679ccde7')\"\n",
              "              title=\"Convert this dataframe to an interactive table.\"\n",
              "              style=\"display:none;\">\n",
              "        \n",
              "  <svg xmlns=\"http://www.w3.org/2000/svg\" height=\"24px\"viewBox=\"0 0 24 24\"\n",
              "       width=\"24px\">\n",
              "    <path d=\"M0 0h24v24H0V0z\" fill=\"none\"/>\n",
              "    <path d=\"M18.56 5.44l.94 2.06.94-2.06 2.06-.94-2.06-.94-.94-2.06-.94 2.06-2.06.94zm-11 1L8.5 8.5l.94-2.06 2.06-.94-2.06-.94L8.5 2.5l-.94 2.06-2.06.94zm10 10l.94 2.06.94-2.06 2.06-.94-2.06-.94-.94-2.06-.94 2.06-2.06.94z\"/><path d=\"M17.41 7.96l-1.37-1.37c-.4-.4-.92-.59-1.43-.59-.52 0-1.04.2-1.43.59L10.3 9.45l-7.72 7.72c-.78.78-.78 2.05 0 2.83L4 21.41c.39.39.9.59 1.41.59.51 0 1.02-.2 1.41-.59l7.78-7.78 2.81-2.81c.8-.78.8-2.07 0-2.86zM5.41 20L4 18.59l7.72-7.72 1.47 1.35L5.41 20z\"/>\n",
              "  </svg>\n",
              "      </button>\n",
              "      \n",
              "  <style>\n",
              "    .colab-df-container {\n",
              "      display:flex;\n",
              "      flex-wrap:wrap;\n",
              "      gap: 12px;\n",
              "    }\n",
              "\n",
              "    .colab-df-convert {\n",
              "      background-color: #E8F0FE;\n",
              "      border: none;\n",
              "      border-radius: 50%;\n",
              "      cursor: pointer;\n",
              "      display: none;\n",
              "      fill: #1967D2;\n",
              "      height: 32px;\n",
              "      padding: 0 0 0 0;\n",
              "      width: 32px;\n",
              "    }\n",
              "\n",
              "    .colab-df-convert:hover {\n",
              "      background-color: #E2EBFA;\n",
              "      box-shadow: 0px 1px 2px rgba(60, 64, 67, 0.3), 0px 1px 3px 1px rgba(60, 64, 67, 0.15);\n",
              "      fill: #174EA6;\n",
              "    }\n",
              "\n",
              "    [theme=dark] .colab-df-convert {\n",
              "      background-color: #3B4455;\n",
              "      fill: #D2E3FC;\n",
              "    }\n",
              "\n",
              "    [theme=dark] .colab-df-convert:hover {\n",
              "      background-color: #434B5C;\n",
              "      box-shadow: 0px 1px 3px 1px rgba(0, 0, 0, 0.15);\n",
              "      filter: drop-shadow(0px 1px 2px rgba(0, 0, 0, 0.3));\n",
              "      fill: #FFFFFF;\n",
              "    }\n",
              "  </style>\n",
              "\n",
              "      <script>\n",
              "        const buttonEl =\n",
              "          document.querySelector('#df-b359f4da-0bd5-470d-ac38-b8d6679ccde7 button.colab-df-convert');\n",
              "        buttonEl.style.display =\n",
              "          google.colab.kernel.accessAllowed ? 'block' : 'none';\n",
              "\n",
              "        async function convertToInteractive(key) {\n",
              "          const element = document.querySelector('#df-b359f4da-0bd5-470d-ac38-b8d6679ccde7');\n",
              "          const dataTable =\n",
              "            await google.colab.kernel.invokeFunction('convertToInteractive',\n",
              "                                                     [key], {});\n",
              "          if (!dataTable) return;\n",
              "\n",
              "          const docLinkHtml = 'Like what you see? Visit the ' +\n",
              "            '<a target=\"_blank\" href=https://colab.research.google.com/notebooks/data_table.ipynb>data table notebook</a>'\n",
              "            + ' to learn more about interactive tables.';\n",
              "          element.innerHTML = '';\n",
              "          dataTable['output_type'] = 'display_data';\n",
              "          await google.colab.output.renderOutput(dataTable, element);\n",
              "          const docLink = document.createElement('div');\n",
              "          docLink.innerHTML = docLinkHtml;\n",
              "          element.appendChild(docLink);\n",
              "        }\n",
              "      </script>\n",
              "    </div>\n",
              "  </div>\n",
              "  "
            ]
          },
          "metadata": {},
          "execution_count": 9
        }
      ]
    },
    {
      "cell_type": "code",
      "source": [
        "del df_train\n",
        "x_train = x_train/255.0\n",
        "x_train, x_valid, y_train, y_valid = train_test_split(x_train, y_train, test_size=0.1, random_state=42)\n",
        "\n",
        "print(x_train.shape, y_train.shape)\n",
        "print(x_valid.shape, y_valid.shape)"
      ],
      "metadata": {
        "id": "UNLV_cxji1yU",
        "colab": {
          "base_uri": "https://localhost:8080/"
        },
        "outputId": "d434d3cc-c612-4945-bfa7-b11deea5d62b"
      },
      "execution_count": null,
      "outputs": [
        {
          "output_type": "stream",
          "name": "stdout",
          "text": [
            "(17036, 784) (17036,)\n",
            "(1893, 784) (1893,)\n"
          ]
        }
      ]
    },
    {
      "cell_type": "code",
      "source": [
        "def plot_images(images, num_images):\n",
        "    num_rows = math.floor(math.sqrt(num_images))\n",
        "    num_cols = math.ceil(num_images/num_rows)\n",
        "    for i in range(num_images):\n",
        "        reshaped_image = images[i].reshape(28,28)\n",
        "        plt.subplot(num_rows, num_cols, i+1)\n",
        "        plt.imshow(reshaped_image, cmap=plt.cm.Greys_r)\n",
        "        plt.axis('off')\n",
        "    plt.show()\n",
        "\n",
        "plot_images(x_train, 20)"
      ],
      "metadata": {
        "id": "2XLKFhUDvRbs",
        "colab": {
          "base_uri": "https://localhost:8080/",
          "height": 248
        },
        "outputId": "f36c413a-824a-4fac-a13d-060cc1054c4f"
      },
      "execution_count": null,
      "outputs": [
        {
          "output_type": "display_data",
          "data": {
            "text/plain": [
              "<Figure size 432x288 with 20 Axes>"
            ],
            "image/png": "[encoded data removed]"
          },
          "metadata": {
            "needs_background": "light"
          }
        }
      ]
    },
    {
      "cell_type": "code",
      "source": [
        "def plot_labels(labels):\n",
        "    plt.title(\"Labels\")\n",
        "    sns.countplot(x=labels, palette='viridis')\n",
        "    plt.show()\n",
        "\n",
        "plot_labels(y_train)"
      ],
      "metadata": {
        "id": "_0bHCIADvdA9",
        "colab": {
          "base_uri": "https://localhost:8080/",
          "height": 281
        },
        "outputId": "c546ccdc-f572-4868-ec84-11fc21f38919"
      },
      "execution_count": null,
      "outputs": [
        {
          "output_type": "display_data",
          "data": {
            "text/plain": [
              "<Figure size 432x288 with 1 Axes>"
            ],
            "image/png": "[encoded data removed]"
          },
          "metadata": {
            "needs_background": "light"
          }
        }
      ]
    },
    {
      "cell_type": "markdown",
      "source": [
        "### PCA"
      ],
      "metadata": {
        "id": "FZ9CjP_xtY7F"
      }
    },
    {
      "cell_type": "code",
      "source": [
        "pca = PCA(n_components=36, random_state=42) # 784 -> 36\n",
        "\n",
        "x_train_pca = pca.fit_transform(x_train)\n",
        "x_valid_pca = pca.transform(x_valid)\n",
        "\n",
        "print(x_train_pca.shape)\n",
        "print(x_valid_pca.shape)"
      ],
      "metadata": {
        "id": "rKNd_eOUvehM",
        "colab": {
          "base_uri": "https://localhost:8080/"
        },
        "outputId": "e6904df2-c38e-44af-f159-9d424ddf52fb"
      },
      "execution_count": null,
      "outputs": [
        {
          "output_type": "stream",
          "name": "stdout",
          "text": [
            "(17036, 36)\n",
            "(1893, 36)\n"
          ]
        }
      ]
    },
    {
      "cell_type": "markdown",
      "source": [
        "### SVM"
      ],
      "metadata": {
        "id": "oyjkR8QYtdDF"
      }
    },
    {
      "cell_type": "code",
      "source": [
        "kf = KFold(n_splits=5, shuffle=True, random_state=42)\n",
        "svm_preciznost = []\n",
        "svm_models = []\n",
        "\n",
        "for c in [1, 5, 10]:\n",
        "    for F in ['rbf', 'poly']:\n",
        "        indeksi = kf.split(x_train_pca, y_train)\n",
        "        preciznost_tmp = []\n",
        "            \n",
        "        for train_index, test_index in indeksi:\n",
        "\n",
        "            SVM = SVC(C=c, kernel=F)\n",
        "            SVM.fit(x_train_pca[train_index,:], y_train[train_index])\n",
        "\n",
        "            y_pred = SVM.predict(x_train_pca[test_index,:])\n",
        "            preciznost_tmp.append(accuracy_score(y_train[test_index], y_pred))\n",
        "              \n",
        "        print(f'za parametre C = {c}, kernel = {F} tacnost je: {np.mean(preciznost_tmp):.4f}')\n",
        "        svm_models.append(SVM)\n",
        "        svm_preciznost.append(np.mean(preciznost_tmp))\n",
        "print(f'najbolja tacnost je u iteraciji broj: {np.argmax(svm_preciznost)}')\n",
        "svm = svm_models[np.argmax(svm_preciznost)]"
      ],
      "metadata": {
        "colab": {
          "base_uri": "https://localhost:8080/"
        },
        "id": "mGlux6cC1XgK",
        "outputId": "0b7daeaa-dad3-4f76-af13-24edd6d733c0"
      },
      "execution_count": null,
      "outputs": [
        {
          "output_type": "stream",
          "name": "stdout",
          "text": [
            "za parametre C = 1, kernel = rbf tacnost je: 0.9714\n",
            "za parametre C = 1, kernel = poly tacnost je: 0.9712\n",
            "za parametre C = 5, kernel = rbf tacnost je: 0.9763\n",
            "za parametre C = 5, kernel = poly tacnost je: 0.9729\n",
            "za parametre C = 10, kernel = rbf tacnost je: 0.9761\n",
            "za parametre C = 10, kernel = poly tacnost je: 0.9733\n",
            "najbolja tacnost je u iteraciji broj: 2\n"
          ]
        }
      ]
    },
    {
      "cell_type": "code",
      "source": [
        "svm_y_preds = svm.predict(x_valid_pca)\n",
        "print(f'{accuracy_score(y_valid, svm_y_preds):.4f}')\n",
        "\n",
        "svm.fit(x_valid_pca, y_valid)"
      ],
      "metadata": {
        "id": "-ZqCXk_GvqP0",
        "colab": {
          "base_uri": "https://localhost:8080/"
        },
        "outputId": "04e93010-0840-477d-bc03-9f306b2a9a09"
      },
      "execution_count": null,
      "outputs": [
        {
          "output_type": "stream",
          "name": "stdout",
          "text": [
            "0.9757\n"
          ]
        },
        {
          "output_type": "execute_result",
          "data": {
            "text/plain": [
              "SVC(C=5)"
            ]
          },
          "metadata": {},
          "execution_count": 15
        }
      ]
    },
    {
      "cell_type": "code",
      "source": [
        "# mesa 8 vs 3 & 4 vs 9\n",
        "plot_confusion_mtx(confusion_matrix(y_valid, svm_y_preds))"
      ],
      "metadata": {
        "id": "bj81FxNiwA7g",
        "colab": {
          "base_uri": "https://localhost:8080/",
          "height": 404
        },
        "outputId": "b3961035-5dd1-4125-b58c-f9ecaf3779eb"
      },
      "execution_count": null,
      "outputs": [
        {
          "output_type": "display_data",
          "data": {
            "text/plain": [
              "<Figure size 864x432 with 2 Axes>"
            ],
            "image/png": "[encoded data removed]"
          },
          "metadata": {
            "needs_background": "light"
          }
        }
      ]
    },
    {
      "cell_type": "markdown",
      "source": [
        "### kNN"
      ],
      "metadata": {
        "id": "Z0wrR6jhtfsB"
      }
    },
    {
      "cell_type": "code",
      "source": [
        "kf = KFold(n_splits=5, shuffle=True, random_state=42)\n",
        "knn_preciznost = []\n",
        "knn_models = []\n",
        "# euclidean = sqrt(sum((x - y)^2)) - real\n",
        "# chebyshev = max(|x - y|) - real\n",
        "# canbera = sum(|x - y| / (|x| + |y|)) - integer\n",
        "\n",
        "for k in [1, 5, 10]:\n",
        "    for m in ['euclidean', 'chebyshev', 'canberra']:\n",
        "\n",
        "      indeksi = kf.split(x_train_pca, y_train)\n",
        "      preciznost_tmp = []\n",
        "      \n",
        "      for train_index, test_index in indeksi:\n",
        "\n",
        "          kNN = KNeighborsClassifier(n_neighbors=k, metric=m)\n",
        "          kNN.fit(x_train_pca[train_index,:], y_train[train_index])\n",
        "\n",
        "          knn_y_pred = kNN.predict(x_train_pca[test_index,:])\n",
        "          preciznost_tmp.append(accuracy_score(y_train[test_index], knn_y_pred))\n",
        "        \n",
        "      print(f'za parametre k = {k} i m = {m} tacnost je: {np.mean(preciznost_tmp):.4f}')\n",
        "      \n",
        "      knn_models.append(kNN)\n",
        "      knn_preciznost.append(np.mean(preciznost_tmp))\n",
        "print(f'najbolja tacnost je u iteraciji broj: {np.argmax(knn_preciznost)}')\n",
        "knn = knn_models[np.argmax(knn_preciznost)]"
      ],
      "metadata": {
        "colab": {
          "base_uri": "https://localhost:8080/"
        },
        "id": "iTEi_VuMtg94",
        "outputId": "7763204b-9c2d-4933-c87c-1bd6984beaa5"
      },
      "execution_count": null,
      "outputs": [
        {
          "output_type": "stream",
          "name": "stdout",
          "text": [
            "za parametre k = 1 i m = euclidean tacnost je: 0.9633\n",
            "za parametre k = 1 i m = chebyshev tacnost je: 0.9489\n",
            "za parametre k = 1 i m = canberra tacnost je: 0.9307\n",
            "za parametre k = 5 i m = euclidean tacnost je: 0.9645\n",
            "za parametre k = 5 i m = chebyshev tacnost je: 0.9508\n",
            "za parametre k = 5 i m = canberra tacnost je: 0.9391\n",
            "za parametre k = 10 i m = euclidean tacnost je: 0.9604\n",
            "za parametre k = 10 i m = chebyshev tacnost je: 0.9454\n",
            "za parametre k = 10 i m = canberra tacnost je: 0.9398\n",
            "najbolja tacnost je u iteraciji broj: 3\n"
          ]
        }
      ]
    },
    {
      "cell_type": "code",
      "source": [
        "knn_y_preds = knn.predict(x_valid_pca)\n",
        "print(f'{accuracy_score(y_valid, knn_y_preds):.4f}')\n",
        "\n",
        "knn.fit(x_valid_pca, y_valid)"
      ],
      "metadata": {
        "colab": {
          "base_uri": "https://localhost:8080/"
        },
        "id": "zdS9N6Vhvbo2",
        "outputId": "c587690c-eeba-4303-8414-f4712573039d"
      },
      "execution_count": null,
      "outputs": [
        {
          "output_type": "stream",
          "name": "stdout",
          "text": [
            "0.9625\n"
          ]
        },
        {
          "output_type": "execute_result",
          "data": {
            "text/plain": [
              "KNeighborsClassifier(metric='euclidean')"
            ]
          },
          "metadata": {},
          "execution_count": 18
        }
      ]
    },
    {
      "cell_type": "code",
      "source": [
        "plot_confusion_mtx(confusion_matrix(y_valid, knn_y_preds))"
      ],
      "metadata": {
        "id": "uXpgpJ_IvsrI",
        "colab": {
          "base_uri": "https://localhost:8080/",
          "height": 404
        },
        "outputId": "0d045f56-7385-4253-f77a-8e67d096b3f6"
      },
      "execution_count": null,
      "outputs": [
        {
          "output_type": "display_data",
          "data": {
            "text/plain": [
              "<Figure size 864x432 with 2 Axes>"
            ],
            "image/png": "[encoded data removed]"
          },
          "metadata": {
            "needs_background": "light"
          }
        }
      ]
    },
    {
      "cell_type": "markdown",
      "source": [
        "### Decision Tree"
      ],
      "metadata": {
        "id": "PWF-p5IJsJww"
      }
    },
    {
      "cell_type": "code",
      "source": [
        "kf = KFold(n_splits=5, shuffle=True, random_state=42)\n",
        "clf_preciznost = []\n",
        "clf_models = []\n",
        "\n",
        "for depth in [25, 50, None]:\n",
        "    for crit in ['gini', 'entropy']:\n",
        "\n",
        "        indeksi = kf.split(x_train_pca, y_train)\n",
        "        preciznost_tmp = []\n",
        "            \n",
        "        for train_index, test_index in indeksi:\n",
        "\n",
        "            clf = DecisionTreeClassifier(criterion=crit, max_depth=depth) #weights mozda \n",
        "            clf.fit(x_train_pca[train_index,:], y_train[train_index])\n",
        "\n",
        "            clf_y_pred = clf.predict(x_train_pca[test_index,:])\n",
        "            preciznost_tmp.append(accuracy_score(y_train[test_index], clf_y_pred))\n",
        "\n",
        "        clf_models.append(clf)\n",
        "        print(f'za parametre depth = {depth} i criterion = {crit} tacnost je: {np.mean(preciznost_tmp):.4f}')\n",
        "            \n",
        "        clf_preciznost.append(np.mean(preciznost_tmp))\n",
        "print(f'najbolja tacnost je u iteraciji broj: {np.argmax(clf_preciznost)}')\n",
        "clf_final = clf_models[np.argmax(clf_preciznost)]"
      ],
      "metadata": {
        "id": "W9gne6WRWNyN",
        "colab": {
          "base_uri": "https://localhost:8080/"
        },
        "outputId": "b2c9bd79-f7fb-48f8-f791-09abdac7b8c4"
      },
      "execution_count": null,
      "outputs": [
        {
          "output_type": "stream",
          "name": "stdout",
          "text": [
            "za parametre depth = 25 i criterion = gini tacnost je: 0.7984\n",
            "za parametre depth = 25 i criterion = entropy tacnost je: 0.8109\n",
            "za parametre depth = 50 i criterion = gini tacnost je: 0.7976\n",
            "za parametre depth = 50 i criterion = entropy tacnost je: 0.8094\n",
            "za parametre depth = None i criterion = gini tacnost je: 0.7983\n",
            "za parametre depth = None i criterion = entropy tacnost je: 0.8102\n",
            "najbolja tacnost je u iteraciji broj: 1\n"
          ]
        }
      ]
    },
    {
      "cell_type": "code",
      "source": [
        "clf_y_preds = clf_final.predict(x_valid_pca)\n",
        "print(f'{accuracy_score(y_valid, clf_y_preds):.4f}')\n",
        "\n",
        "clf_final.fit(x_valid_pca, y_valid)"
      ],
      "metadata": {
        "id": "BT830U8FYbGM",
        "colab": {
          "base_uri": "https://localhost:8080/"
        },
        "outputId": "90103d3f-afdf-4477-fe15-b6f08392c581"
      },
      "execution_count": null,
      "outputs": [
        {
          "output_type": "stream",
          "name": "stdout",
          "text": [
            "0.8156\n"
          ]
        },
        {
          "output_type": "execute_result",
          "data": {
            "text/plain": [
              "DecisionTreeClassifier(criterion='entropy', max_depth=25)"
            ]
          },
          "metadata": {},
          "execution_count": 21
        }
      ]
    },
    {
      "cell_type": "code",
      "source": [
        "plot_confusion_mtx(confusion_matrix(y_valid, clf_y_preds))"
      ],
      "metadata": {
        "colab": {
          "base_uri": "https://localhost:8080/",
          "height": 404
        },
        "id": "0wn6zVWpsQ_B",
        "outputId": "7340c9eb-5359-49d2-ba02-b735192da4d3"
      },
      "execution_count": null,
      "outputs": [
        {
          "output_type": "display_data",
          "data": {
            "text/plain": [
              "<Figure size 864x432 with 2 Axes>"
            ],
            "image/png": "[encoded data removed]"
          },
          "metadata": {
            "needs_background": "light"
          }
        }
      ]
    },
    {
      "cell_type": "markdown",
      "source": [
        "##Wrongly classified SVM"
      ],
      "metadata": {
        "id": "ZB7wfX78nuak"
      }
    },
    {
      "cell_type": "code",
      "source": [
        "indices = (svm_y_preds != y_valid) \n",
        "plot_images(x_valid[indices], 6)\n",
        "print(f'Correct: {y_valid[indices][:6]}, Predicted: {svm_y_preds[indices][:6]}')"
      ],
      "metadata": {
        "id": "ziGEKJtwvvR6",
        "colab": {
          "base_uri": "https://localhost:8080/",
          "height": 265
        },
        "outputId": "ce31d403-562c-4d17-acf8-90a9264822a4"
      },
      "execution_count": null,
      "outputs": [
        {
          "output_type": "display_data",
          "data": {
            "text/plain": [
              "<Figure size 432x288 with 6 Axes>"
            ],
            "image/png": "[encoded data removed]"
          },
          "metadata": {
            "needs_background": "light"
          }
        },
        {
          "output_type": "stream",
          "name": "stdout",
          "text": [
            "Correct: [7 7 8 3 4 0], Predicted: [8 4 3 9 9 5]\n"
          ]
        }
      ]
    },
    {
      "cell_type": "markdown",
      "source": [
        "## Test.csv"
      ],
      "metadata": {
        "id": "nREXUjndq31B"
      }
    },
    {
      "cell_type": "code",
      "source": [
        "x_test = pd.read_csv(\"./test.csv\")\n",
        "x_test.dropna(inplace=True)\n",
        "x_test = x_test/255.0\n",
        "\n",
        "x_test_pca = pca.transform(x_test)"
      ],
      "metadata": {
        "id": "k9dWGi_LvvP1",
        "colab": {
          "base_uri": "https://localhost:8080/"
        },
        "outputId": "ded5c941-ea2e-40ca-d003-3865ab80b77d"
      },
      "execution_count": null,
      "outputs": [
        {
          "output_type": "stream",
          "name": "stderr",
          "text": [
            "/usr/local/lib/python3.7/dist-packages/sklearn/base.py:444: UserWarning: X has feature names, but PCA was fitted without feature names\n",
            "  f\"X has feature names, but {self.__class__.__name__} was fitted without\"\n"
          ]
        }
      ]
    },
    {
      "cell_type": "code",
      "source": [
        "svm_results = svm.predict(x_test_pca)\n",
        "svm_results"
      ],
      "metadata": {
        "id": "0T_DTjLqwyyX",
        "colab": {
          "base_uri": "https://localhost:8080/"
        },
        "outputId": "bff3ff68-96bd-41fe-dd47-31ce6d307b98"
      },
      "execution_count": null,
      "outputs": [
        {
          "output_type": "execute_result",
          "data": {
            "text/plain": [
              "array([2, 0, 9, ..., 2, 1, 8])"
            ]
          },
          "metadata": {},
          "execution_count": 28
        }
      ]
    },
    {
      "cell_type": "code",
      "source": [
        "knn_results = knn.predict(x_test_pca)\n",
        "knn_results"
      ],
      "metadata": {
        "id": "KroLVzDXwzNI",
        "colab": {
          "base_uri": "https://localhost:8080/"
        },
        "outputId": "d2e52ad8-8038-4c24-a102-842829976810"
      },
      "execution_count": null,
      "outputs": [
        {
          "output_type": "execute_result",
          "data": {
            "text/plain": [
              "array([2, 0, 9, ..., 2, 1, 8])"
            ]
          },
          "metadata": {},
          "execution_count": 29
        }
      ]
    },
    {
      "cell_type": "code",
      "source": [
        "clf_results = clf_final.predict(x_test_pca)\n",
        "clf_results"
      ],
      "metadata": {
        "id": "hkcJiu8iqrYB",
        "colab": {
          "base_uri": "https://localhost:8080/"
        },
        "outputId": "fb79c022-6a6f-4eec-c0bb-1a80a23dc6b3"
      },
      "execution_count": null,
      "outputs": [
        {
          "output_type": "execute_result",
          "data": {
            "text/plain": [
              "array([2, 0, 4, ..., 2, 1, 5])"
            ]
          },
          "metadata": {},
          "execution_count": 30
        }
      ]
    }
  ]
}